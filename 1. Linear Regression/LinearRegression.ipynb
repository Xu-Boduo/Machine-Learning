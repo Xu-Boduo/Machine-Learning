{
 "cells": [
  {
   "cell_type": "markdown",
   "id": "08533f3a",
   "metadata": {},
   "source": [
    "# 线性回归（多变量）\n",
    "## 房价预测\n",
    "LinearRegressionData.txt：面积、卧室数、房价"
   ]
  },
  {
   "cell_type": "code",
   "execution_count": 60,
   "id": "9cff5f67",
   "metadata": {},
   "outputs": [],
   "source": [
    "import numpy as np\n",
    "import pandas as pd\n",
    "import matplotlib.pyplot as plt"
   ]
  },
  {
   "cell_type": "markdown",
   "id": "07f2f3c6",
   "metadata": {},
   "source": [
    "<img src='Img/dataset_img.png'>"
   ]
  },
  {
   "cell_type": "code",
   "execution_count": 61,
   "id": "23df67ab",
   "metadata": {},
   "outputs": [
    {
     "data": {
      "text/html": [
       "<div>\n",
       "<style scoped>\n",
       "    .dataframe tbody tr th:only-of-type {\n",
       "        vertical-align: middle;\n",
       "    }\n",
       "\n",
       "    .dataframe tbody tr th {\n",
       "        vertical-align: top;\n",
       "    }\n",
       "\n",
       "    .dataframe thead th {\n",
       "        text-align: right;\n",
       "    }\n",
       "</style>\n",
       "<table border=\"1\" class=\"dataframe\">\n",
       "  <thead>\n",
       "    <tr style=\"text-align: right;\">\n",
       "      <th></th>\n",
       "      <th>Size</th>\n",
       "      <th>Bedrooms</th>\n",
       "      <th>Price</th>\n",
       "    </tr>\n",
       "  </thead>\n",
       "  <tbody>\n",
       "    <tr>\n",
       "      <th>0</th>\n",
       "      <td>2104</td>\n",
       "      <td>3</td>\n",
       "      <td>399900</td>\n",
       "    </tr>\n",
       "    <tr>\n",
       "      <th>1</th>\n",
       "      <td>1600</td>\n",
       "      <td>3</td>\n",
       "      <td>329900</td>\n",
       "    </tr>\n",
       "    <tr>\n",
       "      <th>2</th>\n",
       "      <td>2400</td>\n",
       "      <td>3</td>\n",
       "      <td>369000</td>\n",
       "    </tr>\n",
       "    <tr>\n",
       "      <th>3</th>\n",
       "      <td>1416</td>\n",
       "      <td>2</td>\n",
       "      <td>232000</td>\n",
       "    </tr>\n",
       "    <tr>\n",
       "      <th>4</th>\n",
       "      <td>3000</td>\n",
       "      <td>4</td>\n",
       "      <td>539900</td>\n",
       "    </tr>\n",
       "  </tbody>\n",
       "</table>\n",
       "</div>"
      ],
      "text/plain": [
       "   Size  Bedrooms   Price\n",
       "0  2104         3  399900\n",
       "1  1600         3  329900\n",
       "2  2400         3  369000\n",
       "3  1416         2  232000\n",
       "4  3000         4  539900"
      ]
     },
     "execution_count": 61,
     "metadata": {},
     "output_type": "execute_result"
    }
   ],
   "source": [
    "path = 'LinearRegressionData.txt'\n",
    "data = pd.read_csv(path, header=None, names=['Size', 'Bedrooms', 'Price'])\n",
    "data.head()  # 显然前5行数据"
   ]
  },
  {
   "cell_type": "code",
   "execution_count": 62,
   "id": "1040c6b4",
   "metadata": {},
   "outputs": [
    {
     "data": {
      "text/html": [
       "<div>\n",
       "<style scoped>\n",
       "    .dataframe tbody tr th:only-of-type {\n",
       "        vertical-align: middle;\n",
       "    }\n",
       "\n",
       "    .dataframe tbody tr th {\n",
       "        vertical-align: top;\n",
       "    }\n",
       "\n",
       "    .dataframe thead th {\n",
       "        text-align: right;\n",
       "    }\n",
       "</style>\n",
       "<table border=\"1\" class=\"dataframe\">\n",
       "  <thead>\n",
       "    <tr style=\"text-align: right;\">\n",
       "      <th></th>\n",
       "      <th>Ones</th>\n",
       "      <th>Size</th>\n",
       "      <th>Bedrooms</th>\n",
       "      <th>Price</th>\n",
       "    </tr>\n",
       "  </thead>\n",
       "  <tbody>\n",
       "    <tr>\n",
       "      <th>0</th>\n",
       "      <td>1</td>\n",
       "      <td>2104</td>\n",
       "      <td>3</td>\n",
       "      <td>399900</td>\n",
       "    </tr>\n",
       "    <tr>\n",
       "      <th>1</th>\n",
       "      <td>1</td>\n",
       "      <td>1600</td>\n",
       "      <td>3</td>\n",
       "      <td>329900</td>\n",
       "    </tr>\n",
       "    <tr>\n",
       "      <th>2</th>\n",
       "      <td>1</td>\n",
       "      <td>2400</td>\n",
       "      <td>3</td>\n",
       "      <td>369000</td>\n",
       "    </tr>\n",
       "    <tr>\n",
       "      <th>3</th>\n",
       "      <td>1</td>\n",
       "      <td>1416</td>\n",
       "      <td>2</td>\n",
       "      <td>232000</td>\n",
       "    </tr>\n",
       "    <tr>\n",
       "      <th>4</th>\n",
       "      <td>1</td>\n",
       "      <td>3000</td>\n",
       "      <td>4</td>\n",
       "      <td>539900</td>\n",
       "    </tr>\n",
       "  </tbody>\n",
       "</table>\n",
       "</div>"
      ],
      "text/plain": [
       "   Ones  Size  Bedrooms   Price\n",
       "0     1  2104         3  399900\n",
       "1     1  1600         3  329900\n",
       "2     1  2400         3  369000\n",
       "3     1  1416         2  232000\n",
       "4     1  3000         4  539900"
      ]
     },
     "execution_count": 62,
     "metadata": {},
     "output_type": "execute_result"
    }
   ],
   "source": [
    "# add ones column, x0\n",
    "data.insert(0, 'Ones', 1)\n",
    "data.head()"
   ]
  },
  {
   "cell_type": "code",
   "execution_count": 63,
   "id": "046b9ac7",
   "metadata": {},
   "outputs": [
    {
     "data": {
      "text/html": [
       "<div>\n",
       "<style scoped>\n",
       "    .dataframe tbody tr th:only-of-type {\n",
       "        vertical-align: middle;\n",
       "    }\n",
       "\n",
       "    .dataframe tbody tr th {\n",
       "        vertical-align: top;\n",
       "    }\n",
       "\n",
       "    .dataframe thead th {\n",
       "        text-align: right;\n",
       "    }\n",
       "</style>\n",
       "<table border=\"1\" class=\"dataframe\">\n",
       "  <thead>\n",
       "    <tr style=\"text-align: right;\">\n",
       "      <th></th>\n",
       "      <th>Ones</th>\n",
       "      <th>Size</th>\n",
       "      <th>Bedrooms</th>\n",
       "    </tr>\n",
       "  </thead>\n",
       "  <tbody>\n",
       "    <tr>\n",
       "      <th>0</th>\n",
       "      <td>1</td>\n",
       "      <td>2104</td>\n",
       "      <td>3</td>\n",
       "    </tr>\n",
       "    <tr>\n",
       "      <th>1</th>\n",
       "      <td>1</td>\n",
       "      <td>1600</td>\n",
       "      <td>3</td>\n",
       "    </tr>\n",
       "    <tr>\n",
       "      <th>2</th>\n",
       "      <td>1</td>\n",
       "      <td>2400</td>\n",
       "      <td>3</td>\n",
       "    </tr>\n",
       "    <tr>\n",
       "      <th>3</th>\n",
       "      <td>1</td>\n",
       "      <td>1416</td>\n",
       "      <td>2</td>\n",
       "    </tr>\n",
       "    <tr>\n",
       "      <th>4</th>\n",
       "      <td>1</td>\n",
       "      <td>3000</td>\n",
       "      <td>4</td>\n",
       "    </tr>\n",
       "  </tbody>\n",
       "</table>\n",
       "</div>"
      ],
      "text/plain": [
       "   Ones  Size  Bedrooms\n",
       "0     1  2104         3\n",
       "1     1  1600         3\n",
       "2     1  2400         3\n",
       "3     1  1416         2\n",
       "4     1  3000         4"
      ]
     },
     "execution_count": 63,
     "metadata": {},
     "output_type": "execute_result"
    }
   ],
   "source": [
    "# set X (training data) and Y (target variable)\n",
    "# data.shape [examples, features]\n",
    "cols = data.shape[1]\n",
    "X = data.iloc[:, :cols-1]  # 返回值含表头和序号\n",
    "Y = data.iloc[:, cols-1:cols]\n",
    "X.head()"
   ]
  },
  {
   "cell_type": "code",
   "execution_count": 64,
   "id": "1f2be720",
   "metadata": {},
   "outputs": [],
   "source": [
    "# convert to matrices and initialize theta\n",
    "X = np.matrix(X.values)  # 返回值仅有数据，无表头和序号\n",
    "Y = np.matrix(Y.values)\n",
    "theta = np.matrix(np.array([0, 0, 0]))"
   ]
  },
  {
   "cell_type": "markdown",
   "id": "331066b9",
   "metadata": {},
   "source": [
    "### 正规方程的解析解\n",
    "<img src='Img/analytic_solutions.png'>"
   ]
  },
  {
   "cell_type": "code",
   "execution_count": 72,
   "id": "872a2c65",
   "metadata": {},
   "outputs": [],
   "source": [
    "# 求解最优参数\n",
    "theta = np.linalg.inv(X.T@X)@X.T@Y"
   ]
  },
  {
   "cell_type": "code",
   "execution_count": 73,
   "id": "18966a42",
   "metadata": {},
   "outputs": [
    {
     "name": "stdout",
     "output_type": "stream",
     "text": [
      "[[89597.9095428 ]\n",
      " [  139.21067402]\n",
      " [-8738.01911233]]\n"
     ]
    }
   ],
   "source": [
    "print(theta)"
   ]
  },
  {
   "cell_type": "code",
   "execution_count": 83,
   "id": "dc0bc06a",
   "metadata": {},
   "outputs": [
    {
     "data": {
      "text/plain": [
       "356283.1103388978"
      ]
     },
     "execution_count": 83,
     "metadata": {},
     "output_type": "execute_result"
    }
   ],
   "source": [
    "# 预测价格\n",
    "def predictPrice(x1, x2, theta):\n",
    "    return theta[0, 0] + theta[0, 1]*x1 + theta[0, 2]*x2\n",
    "\n",
    "# 2104,3,356283, \n",
    "price = predictPrice(2104, 3, theta.T)\n",
    "price"
   ]
  },
  {
   "cell_type": "markdown",
   "id": "5b03fe06",
   "metadata": {},
   "source": [
    "## 梯度下降法\n",
    "### 代价函数\n",
    "<img src='Img/cost.png'>"
   ]
  },
  {
   "cell_type": "code",
   "execution_count": 91,
   "id": "157e85c8",
   "metadata": {},
   "outputs": [],
   "source": [
    "# 代价函数\n",
    "def computeCost(X, Y, theta):\n",
    "    inner = np.power((X * theta.T) - Y, 2)\n",
    "    return np.sum(inner) / (2 * len(X))"
   ]
  },
  {
   "cell_type": "markdown",
   "id": "4dde18fd",
   "metadata": {},
   "source": [
    "### 梯度更新公式\n",
    "<img src='Img/gradient.png'>"
   ]
  },
  {
   "cell_type": "code",
   "execution_count": 93,
   "id": "3077e2f2",
   "metadata": {},
   "outputs": [],
   "source": [
    "# 梯度下降\n",
    "def gradientDescent(X, Y, theta, alpha, iters):\n",
    "    temp = np.matrix(np.zeros(theta.shape))\n",
    "    parameters = int(theta.shape[1])\n",
    "    cost = np.zeros(iters)\n",
    "    \n",
    "    for i in range(iters):\n",
    "        error = X * theta.T - Y\n",
    "        \n",
    "        for j in range(parameters):\n",
    "            term = np.multiply(error, X[:, j])\n",
    "            temp[0, j] = temp[0, j] - alpha / len(X) * np.sum(term)\n",
    "        \n",
    "        theta = temp\n",
    "        cost[i] = computeCost(X, Y, theta)\n",
    "    \n",
    "    return theta, cost"
   ]
  },
  {
   "cell_type": "code",
   "execution_count": 100,
   "id": "87ad0c96",
   "metadata": {},
   "outputs": [
    {
     "data": {
      "text/html": [
       "<div>\n",
       "<style scoped>\n",
       "    .dataframe tbody tr th:only-of-type {\n",
       "        vertical-align: middle;\n",
       "    }\n",
       "\n",
       "    .dataframe tbody tr th {\n",
       "        vertical-align: top;\n",
       "    }\n",
       "\n",
       "    .dataframe thead th {\n",
       "        text-align: right;\n",
       "    }\n",
       "</style>\n",
       "<table border=\"1\" class=\"dataframe\">\n",
       "  <thead>\n",
       "    <tr style=\"text-align: right;\">\n",
       "      <th></th>\n",
       "      <th>Size</th>\n",
       "      <th>Bedrooms</th>\n",
       "      <th>Price</th>\n",
       "    </tr>\n",
       "  </thead>\n",
       "  <tbody>\n",
       "    <tr>\n",
       "      <th>count</th>\n",
       "      <td>47.000000</td>\n",
       "      <td>47.000000</td>\n",
       "      <td>47.000000</td>\n",
       "    </tr>\n",
       "    <tr>\n",
       "      <th>mean</th>\n",
       "      <td>2000.680851</td>\n",
       "      <td>3.170213</td>\n",
       "      <td>340412.659574</td>\n",
       "    </tr>\n",
       "    <tr>\n",
       "      <th>std</th>\n",
       "      <td>794.702354</td>\n",
       "      <td>0.760982</td>\n",
       "      <td>125039.899586</td>\n",
       "    </tr>\n",
       "    <tr>\n",
       "      <th>min</th>\n",
       "      <td>852.000000</td>\n",
       "      <td>1.000000</td>\n",
       "      <td>169900.000000</td>\n",
       "    </tr>\n",
       "    <tr>\n",
       "      <th>25%</th>\n",
       "      <td>1432.000000</td>\n",
       "      <td>3.000000</td>\n",
       "      <td>249900.000000</td>\n",
       "    </tr>\n",
       "    <tr>\n",
       "      <th>50%</th>\n",
       "      <td>1888.000000</td>\n",
       "      <td>3.000000</td>\n",
       "      <td>299900.000000</td>\n",
       "    </tr>\n",
       "    <tr>\n",
       "      <th>75%</th>\n",
       "      <td>2269.000000</td>\n",
       "      <td>4.000000</td>\n",
       "      <td>384450.000000</td>\n",
       "    </tr>\n",
       "    <tr>\n",
       "      <th>max</th>\n",
       "      <td>4478.000000</td>\n",
       "      <td>5.000000</td>\n",
       "      <td>699900.000000</td>\n",
       "    </tr>\n",
       "  </tbody>\n",
       "</table>\n",
       "</div>"
      ],
      "text/plain": [
       "              Size   Bedrooms          Price\n",
       "count    47.000000  47.000000      47.000000\n",
       "mean   2000.680851   3.170213  340412.659574\n",
       "std     794.702354   0.760982  125039.899586\n",
       "min     852.000000   1.000000  169900.000000\n",
       "25%    1432.000000   3.000000  249900.000000\n",
       "50%    1888.000000   3.000000  299900.000000\n",
       "75%    2269.000000   4.000000  384450.000000\n",
       "max    4478.000000   5.000000  699900.000000"
      ]
     },
     "execution_count": 100,
     "metadata": {},
     "output_type": "execute_result"
    }
   ],
   "source": [
    "path = 'LinearRegressionData.txt'\n",
    "data = pd.read_csv(path, header=None, names=['Size', 'Bedrooms', 'Price'])\n",
    "\n",
    "# 保存mean、std、mins、maxs、data\n",
    "means = data.mean().values\n",
    "stds = data.std().values\n",
    "mins = data.min().values\n",
    "maxs = data.max().values\n",
    "data_ = data.values\n",
    "data.describe()"
   ]
  },
  {
   "cell_type": "markdown",
   "id": "9e036928",
   "metadata": {},
   "source": [
    "### 特征缩放\n",
    "和正规方程求解解析解的方法不同，梯度下降法需要对特征进行缩放，这样有助于梯度更新。\n",
    "如下左图，为未缩放的特征，使得其函数曲面的等高线图呈现扁平的椭圆形状，这样的话梯度可能需要多次更新才能慢慢达到最低点，而经过特征缩放后的右图，梯度更新次数将少了很多。\n",
    "<img src='Img/feature_scaling.png'>"
   ]
  },
  {
   "cell_type": "code",
   "execution_count": null,
   "id": "3955d4b3",
   "metadata": {},
   "outputs": [],
   "source": [
    "\n",
    "# 特征缩放\n",
    "data = (data - data.mean()) / data.std()\n"
   ]
  },
  {
   "cell_type": "code",
   "execution_count": null,
   "id": "a05db6c4",
   "metadata": {},
   "outputs": [],
   "source": [
    "# add ones column, x0\n",
    "data.insert(0, 'Ones', 1)\n",
    "data.head()"
   ]
  },
  {
   "cell_type": "code",
   "execution_count": 95,
   "id": "76067924",
   "metadata": {},
   "outputs": [],
   "source": [
    "# set X (training data) and Y (target variable)\n",
    "cols = data.shape[1]\n",
    "X = data.iloc[:, :cols-1]\n",
    "Y = data.iloc[:, cols-1:cols]\n",
    "\n",
    "# convert to matrices and initialize theta\n",
    "X = np.matrix(X.values)\n",
    "Y = np.matrix(Y.values)\n",
    "theta = np.matrix(np.array([0, 0, 0]))\n",
    "\n",
    "# perform linear regression on the data set\n",
    "alpha = 0.01\n",
    "iters = 1000\n",
    "g, cost = gradientDescent(X, Y, theta, alpha, iters)"
   ]
  },
  {
   "cell_type": "markdown",
   "id": "962f9deb",
   "metadata": {},
   "source": [
    "### 参数转为缩放前\n",
    "这里要注意，需要将参数放大回缩放前的值"
   ]
  },
  {
   "cell_type": "code",
   "execution_count": 97,
   "id": "1501a148",
   "metadata": {},
   "outputs": [],
   "source": [
    "def theta_transform(theta, means, stds):\n",
    "    temp = means[:-1] * theta[1:] / stds[:-1]\n",
    "    theta[0] = (theta[0] - np.sum(temp)) * stds[-1] + means[-1]\n",
    "    theta[1:] = theta[1:] * stds[-1] / stds[:-1]\n",
    "    return theta.reshape(1, -1)"
   ]
  },
  {
   "cell_type": "code",
   "execution_count": 98,
   "id": "3b915df5",
   "metadata": {},
   "outputs": [
    {
     "data": {
      "text/plain": [
       "array([[88307.21151185,   138.22534685, -7709.05876589]])"
      ]
     },
     "execution_count": 98,
     "metadata": {},
     "output_type": "execute_result"
    }
   ],
   "source": [
    "g_ = np.array(g.reshape(-1, 1))\n",
    "means = means.reshape(-1, 1)\n",
    "stds = stds.reshape(-1, 1)\n",
    "transform_g = theta_transform(g_, means, stds)\n",
    "transform_g"
   ]
  },
  {
   "cell_type": "code",
   "execution_count": 99,
   "id": "dfbe0a88",
   "metadata": {},
   "outputs": [
    {
     "data": {
      "text/plain": [
       "356006.16498795623"
      ]
     },
     "execution_count": 99,
     "metadata": {},
     "output_type": "execute_result"
    }
   ],
   "source": [
    "# 预测价格\n",
    "def predictPrice(x, y, theta):\n",
    "    return theta[0, 0] + theta[0, 1]*x + theta[0, 2]*y\n",
    "\n",
    "# 2104,3,356006, \n",
    "price = predictPrice(2104, 3, transform_g)\n",
    "price"
   ]
  },
  {
   "cell_type": "markdown",
   "id": "aa26a2dd",
   "metadata": {},
   "source": [
    "## 梯度下降法与正规方程解的结果不同\n",
    "是因为梯度下降法最终收敛于最低点的邻近位置，而非最低点，解析解的话则是在最低点，所以结果略有差异。"
   ]
  },
  {
   "cell_type": "code",
   "execution_count": null,
   "id": "57e12b1a",
   "metadata": {},
   "outputs": [],
   "source": []
  }
 ],
 "metadata": {
  "kernelspec": {
   "display_name": "Python 3 (ipykernel)",
   "language": "python",
   "name": "python3"
  },
  "language_info": {
   "codemirror_mode": {
    "name": "ipython",
    "version": 3
   },
   "file_extension": ".py",
   "mimetype": "text/x-python",
   "name": "python",
   "nbconvert_exporter": "python",
   "pygments_lexer": "ipython3",
   "version": "3.9.13"
  }
 },
 "nbformat": 4,
 "nbformat_minor": 5
}
